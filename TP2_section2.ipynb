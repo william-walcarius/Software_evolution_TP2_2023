{
 "cells": [
  {
   "cell_type": "markdown",
   "id": "978a24fe-cb2e-4efc-a2e5-28e910e871d2",
   "metadata": {},
   "source": [
    "# Software Evolution - Practical Session\n",
    "## Laws of software evolution, code counting, code duplication and dependency analysis\n",
    "## Academic year 2022-2023"
   ]
  },
  {
   "cell_type": "markdown",
   "id": "57eb142c-d3ef-4d5e-94cb-d521369b384b",
   "metadata": {},
   "source": [
    "### Write your answers under the questions that are present in this notebook  \n",
    "\n",
    "### Read Section 1 and Section 2 in the provided description document before proceeding with the following section "
   ]
  },
  {
   "cell_type": "code",
   "execution_count": 53,
   "id": "55d3a082-512b-40e6-95bf-27191ea9aaaa",
   "metadata": {},
   "outputs": [],
   "source": [
    "import os\n",
    "import json\n",
    "from tqdm import tqdm\n",
    "import pandas as pd\n",
    "import numpy as np\n",
    "import matplotlib.pyplot as plt\n",
    "import subprocess\n",
    "import math\n",
    "from pandas import option_context\n",
    "from sklearn.linear_model import LinearRegression\n",
    "from sklearn.preprocessing import PolynomialFeatures\n",
    "import re"
   ]
  },
  {
   "cell_type": "markdown",
   "id": "6d83b58e-d5ad-4004-8cc5-e4b31721bb12",
   "metadata": {},
   "source": [
    "## 2. Verifying laws of software evolution"
   ]
  },
  {
   "cell_type": "code",
   "execution_count": 54,
   "id": "0f76117a-1a18-4cb5-8ed0-3fa9cfdfc31c",
   "metadata": {},
   "outputs": [],
   "source": [
    "#Enter the path where the Eucalyptus project is present\n",
    "eucalyptus_project_path = '/home/william/Desktop/eucalyptus'"
   ]
  },
  {
   "cell_type": "markdown",
   "id": "081450a6-87af-484c-8a64-56d49eccff80",
   "metadata": {},
   "source": [
    "### 2.1 Data prepocessing\n",
    "1. Get all the tags present in the eucalyptus project using CLOC\n",
    "2. Filter out the tags that do not correspond to official releases"
   ]
  },
  {
   "cell_type": "markdown",
   "id": "340322a1-719b-472b-8b2a-40c974224c1c",
   "metadata": {},
   "source": [
    "Code hint:  \n",
    "To get the tags that are present in the project - \"command = f'git -C {eucalyptus_project_path} tag -l --format=\"%(refname:short)\" | sort -r'\"   \n",
    "To read the terminal output - 'process = subprocess.Popen(command, stdout=subprocess.PIPE, shell=True)'"
   ]
  },
  {
   "cell_type": "code",
   "execution_count": 55,
   "id": "8cede273-9ee7-4e38-b340-9ad4eca08c18",
   "metadata": {},
   "outputs": [
    {
     "name": "stdout",
     "output_type": "stream",
     "text": [
      "['v4.4.2', 'v4.4.1', 'v4.4.0', 'v4.3.1.1', 'v4.3.1', 'v4.3.0.1', 'v4.3.0', 'v4.2.2', 'v4.2.1', 'v4.2.0', 'v4.1.2', 'v4.1.1', 'v4.1.0', 'v4.0.2', 'v4.0.1', 'v4.0.0', 'karmic', 'jaunty', 'ha-baseline', '3.4.2', '3.4.1', '3.4.0', '3.3-m6', '3.3-m5', '3.3-m4', '3.3-m3', '3.3-m2', '3.3-m1', '3.3.2', '3.3.1', '3.3.0.1', '3.3.0', '3.2.2', '3.2.1', '3.2.0', '3.1-beta1', '3.1-alpha2', '3.1.2', '3.1.1', '3.1.0', '3.0-rc3', '3.0-rc2', '3.0-rc1', '3.0-beta6', '3.0-beta5', '3.0-beta4', '3.0-beta3', '3.0-beta2', '3.0-alpha1', '3.0.1', '3.0.0', '2.0-branch', '2.0-beta', '2.0.1', '2.0.0', '1.6.1', '1.5.2', '1.5.1', '1.5.0', '1.4', '1.0-beta']\n"
     ]
    }
   ],
   "source": [
    "# Your code here\n",
    "command = f'git -C {eucalyptus_project_path} tag -l --format=\"%(refname:short)\" | sort -r'\n",
    "process = subprocess.Popen(command, stdout=subprocess.PIPE, shell=True)\n",
    "tags_list = list(line.strip().decode(\"utf-8\") for line in process.stdout)\n",
    "print(tags_list)\n"
   ]
  },
  {
   "cell_type": "code",
   "execution_count": 56,
   "id": "e8ed2aea-5e29-4cfa-82fa-f43e233fb5ee",
   "metadata": {},
   "outputs": [
    {
     "name": "stdout",
     "output_type": "stream",
     "text": [
      "['v4.4.2', 'v4.4.1', 'v4.4.0', 'v4.3.1', 'v4.3.0', 'v4.2.2', 'v4.2.1', 'v4.2.0', 'v4.1.2', 'v4.1.1', 'v4.1.0', 'v4.0.2', 'v4.0.1', 'v4.0.0', '3.4.2', '3.4.1', '3.4.0', '3.3.2', '3.3.1', '3.3.0', '3.2.2', '3.2.1', '3.2.0', '3.1.2', '3.1.1', '3.1.0', '3.0.1', '3.0.0', '2.0.1', '2.0.0', '1.6.1', '1.5.2', '1.5.1', '1.5.0', '1.4']\n"
     ]
    }
   ],
   "source": [
    "# Your tag filtering code here\n",
    "tags = []\n",
    "for t in tags_list:\n",
    "    a = re.fullmatch(\"v*[0-9]\\.[0-9]\\.[0-9]\", t)\n",
    "    if a != None:\n",
    "        tags.append(a[0])\n",
    "    else:\n",
    "        a = re.fullmatch(\"v*[0-9]\\.[0-9]\",t)\n",
    "        if a != None:\n",
    "            tags.append(a[0])\n",
    "print(tags)"
   ]
  },
  {
   "cell_type": "code",
   "execution_count": 57,
   "id": "65bf75fb",
   "metadata": {},
   "outputs": [],
   "source": [
    "major_minor_patch_versions = ['1.4','1.5.0','1.5.1','1.5.2','1.6.1','2.0.0','2.0.1','3.0.0','3.0.1','3.1.0','3.1.1','3.1.2','3.2.0','3.2.1',\n",
    "                              '3.2.2','3.3.0','3.3.1','3.3.2','3.4.0','3.4.1','3.4.2','v4.0.0','v4.0.1','v4.0.2','v4.1.0','v4.1.1','v4.1.2',\n",
    "                              'v4.2.0','v4.2.1','v4.2.2','v4.3.0','v4.3.1','v4.4.0','v4.4.1','v4.4.2']\n",
    "major_minor_versions = ['1.4','1.5.0','1.6.1','2.0.0','3.0.0','3.1.0','3.2.0','3.3.0','3.4.0','v4.0.0','v4.1.0','v4.2.0','v4.3.0','v4.4.0']"
   ]
  },
  {
   "cell_type": "markdown",
   "id": "aca20a9c-4269-42e0-82d0-ff33d9fe9b30",
   "metadata": {},
   "source": [
    "### 2.2 Law of Increasing Growth\n",
    "1. Fetch the required data (lines of code, blank lines, comment lines and number of files) for each tag along with their release date using CLOC\n",
    "2. Separate the data as following (also mentioned in section 2.1 of the description document)  \n",
    "    a) Consider all the three-component versions (major.minor.patch) - Dataset A  \n",
    "    b) Consider only the minor versions (major.minor) - Dataset B  \n",
    "\n",
    "Note: For example, if there exists any tag like 2.1.0.1, then you can consider it as 2.1.0 provided such a tag does not exist in the data. If both 2.1.0 and 2.1.0.1 exists, then you can ignore the latter "
   ]
  },
  {
   "cell_type": "markdown",
   "id": "cbab47f1-933d-4b28-8a35-f7c3e82cd15c",
   "metadata": {},
   "source": [
    "Code hint:  \n",
    "To set the project to a required tag - \"command = f'git -C {project_path} reset --hard {tag}'\"  \n",
    "For each tag, pass the command to the terminal, invoke cloc tool to get the necessary data in the required format (json, md,...), read the terminal output and store the data"
   ]
  },
  {
   "cell_type": "code",
   "execution_count": 77,
   "id": "f722fc93-4221-4ece-91e0-d521ddc84987",
   "metadata": {},
   "outputs": [
    {
     "name": "stderr",
     "output_type": "stream",
     "text": [
      "fatal: ambiguous argument '1': unknown revision or path not in the working tree.\n",
      "Use '--' to separate paths from revisions, like this:\n",
      "'git <command> [<revision>...] -- [<file>...]'\n"
     ]
    },
    {
     "name": "stdout",
     "output_type": "stream",
     "text": [
      "\n",
      "{\"header\" : {\n",
      "\"cloc_url\"           : \"github.com/AlDanial/cloc\",\n",
      "\"cloc_version\"       : \"1.90\",\n",
      "\"elapsed_seconds\"    : 0.393885135650635,\n",
      "\"n_files\"            : 416,\n",
      "\"n_lines\"            : 68153,\n",
      "\"files_per_second\"   : 1056.14546563895,\n",
      "\"lines_per_second\"   : 173027.600768489},\n",
      "\"Java\" :{\n",
      "\"nFiles\": 235,\n",
      "\"blank\": 4076,\n",
      "\"comment\": 6750,\n",
      "\"code\": 21281},\n",
      "\"Bourne Shell\" :{\n",
      "\"nFiles\": 9,\n",
      "\"blank\": 1400,\n",
      "\"comment\": 1045,\n",
      "\"code\": 9866},\n",
      "\"C\" :{\n",
      "\"nFiles\": 29,\n",
      "\"blank\": 1798,\n",
      "\"comment\": 598,\n",
      "\"code\": 8914},\n",
      "\"XML\" :{\n",
      "\"nFiles\": 66,\n",
      "\"blank\": 346,\n",
      "\"comment\": 1653,\n",
      "\"code\": 3113},\n",
      "\"Groovy\" :{\n",
      "\"nFiles\": 15,\n",
      "\"blank\": 442,\n",
      "\"comment\": 114,\n",
      "\"code\": 1766},\n",
      "\"Web Services Description\" :{\n",
      "\"nFiles\": 3,\n",
      "\"blank\": 188,\n",
      "\"comment\": 37,\n",
      "\"code\": 1139},\n",
      "\"C/C++ Header\" :{\n",
      "\"nFiles\": 18,\n",
      "\"blank\": 147,\n",
      "\"comment\": 57,\n",
      "\"code\": 575},\n",
      "\"Perl\" :{\n",
      "\"nFiles\": 6,\n",
      "\"blank\": 60,\n",
      "\"comment\": 53,\n",
      "\"code\": 452},\n",
      "\"Ant\" :{\n",
      "\"nFiles\": 13,\n",
      "\"blank\": 28,\n",
      "\"comment\": 452,\n",
      "\"code\": 384},\n",
      "\"make\" :{\n",
      "\"nFiles\": 10,\n",
      "\"blank\": 131,\n",
      "\"comment\": 64,\n",
      "\"code\": 332},\n",
      "\"Bourne Again Shell\" :{\n",
      "\"nFiles\": 3,\n",
      "\"blank\": 18,\n",
      "\"comment\": 25,\n",
      "\"code\": 237},\n",
      "\"m4\" :{\n",
      "\"nFiles\": 1,\n",
      "\"blank\": 20,\n",
      "\"comment\": 1,\n",
      "\"code\": 163},\n",
      "\"CSS\" :{\n",
      "\"nFiles\": 1,\n",
      "\"blank\": 17,\n",
      "\"comment\": 0,\n",
      "\"code\": 114},\n",
      "\"XSD\" :{\n",
      "\"nFiles\": 1,\n",
      "\"blank\": 12,\n",
      "\"comment\": 33,\n",
      "\"code\": 99},\n",
      "\"Drools\" :{\n",
      "\"nFiles\": 2,\n",
      "\"blank\": 4,\n",
      "\"comment\": 0,\n",
      "\"code\": 21},\n",
      "\"HTML\" :{\n",
      "\"nFiles\": 2,\n",
      "\"blank\": 3,\n",
      "\"comment\": 67,\n",
      "\"code\": 19},\n",
      "\"diff\" :{\n",
      "\"nFiles\": 2,\n",
      "\"blank\": 8,\n",
      "\"comment\": 20,\n",
      "\"code\": 11},\n",
      "\"SUM\": {\n",
      "\"blank\": 8698,\n",
      "\"comment\": 10969,\n",
      "\"code\": 48486,\n",
      "\"nFiles\": 416} }\n"
     ]
    },
    {
     "name": "stderr",
     "output_type": "stream",
     "text": [
      "fatal: Cannot do hard reset with paths.\n"
     ]
    },
    {
     "name": "stdout",
     "output_type": "stream",
     "text": [
      "\n",
      "{\"header\" : {\n",
      "\"cloc_url\"           : \"github.com/AlDanial/cloc\",\n",
      "\"cloc_version\"       : \"1.90\",\n",
      "\"elapsed_seconds\"    : 0.389423131942749,\n",
      "\"n_files\"            : 416,\n",
      "\"n_lines\"            : 68153,\n",
      "\"files_per_second\"   : 1068.24676265291,\n",
      "\"lines_per_second\"   : 175010.148113183},\n",
      "\"Java\" :{\n",
      "\"nFiles\": 235,\n",
      "\"blank\": 4076,\n",
      "\"comment\": 6750,\n",
      "\"code\": 21281},\n",
      "\"Bourne Shell\" :{\n",
      "\"nFiles\": 9,\n",
      "\"blank\": 1400,\n",
      "\"comment\": 1045,\n",
      "\"code\": 9866},\n",
      "\"C\" :{\n",
      "\"nFiles\": 29,\n",
      "\"blank\": 1798,\n",
      "\"comment\": 598,\n",
      "\"code\": 8914},\n",
      "\"XML\" :{\n",
      "\"nFiles\": 66,\n",
      "\"blank\": 346,\n",
      "\"comment\": 1653,\n",
      "\"code\": 3113},\n",
      "\"Groovy\" :{\n",
      "\"nFiles\": 15,\n",
      "\"blank\": 442,\n",
      "\"comment\": 114,\n",
      "\"code\": 1766},\n",
      "\"Web Services Description\" :{\n",
      "\"nFiles\": 3,\n",
      "\"blank\": 188,\n",
      "\"comment\": 37,\n",
      "\"code\": 1139},\n",
      "\"C/C++ Header\" :{\n",
      "\"nFiles\": 18,\n",
      "\"blank\": 147,\n",
      "\"comment\": 57,\n",
      "\"code\": 575},\n",
      "\"Perl\" :{\n",
      "\"nFiles\": 6,\n",
      "\"blank\": 60,\n",
      "\"comment\": 53,\n",
      "\"code\": 452},\n",
      "\"Ant\" :{\n",
      "\"nFiles\": 13,\n",
      "\"blank\": 28,\n",
      "\"comment\": 452,\n",
      "\"code\": 384},\n",
      "\"make\" :{\n",
      "\"nFiles\": 10,\n",
      "\"blank\": 131,\n",
      "\"comment\": 64,\n",
      "\"code\": 332},\n",
      "\"Bourne Again Shell\" :{\n",
      "\"nFiles\": 3,\n",
      "\"blank\": 18,\n",
      "\"comment\": 25,\n",
      "\"code\": 237},\n",
      "\"m4\" :{\n",
      "\"nFiles\": 1,\n",
      "\"blank\": 20,\n",
      "\"comment\": 1,\n",
      "\"code\": 163},\n",
      "\"CSS\" :{\n",
      "\"nFiles\": 1,\n",
      "\"blank\": 17,\n",
      "\"comment\": 0,\n",
      "\"code\": 114},\n",
      "\"XSD\" :{\n",
      "\"nFiles\": 1,\n",
      "\"blank\": 12,\n",
      "\"comment\": 33,\n",
      "\"code\": 99},\n",
      "\"Drools\" :{\n",
      "\"nFiles\": 2,\n",
      "\"blank\": 4,\n",
      "\"comment\": 0,\n",
      "\"code\": 21},\n",
      "\"HTML\" :{\n",
      "\"nFiles\": 2,\n",
      "\"blank\": 3,\n",
      "\"comment\": 67,\n",
      "\"code\": 19},\n",
      "\"diff\" :{\n",
      "\"nFiles\": 2,\n",
      "\"blank\": 8,\n",
      "\"comment\": 20,\n",
      "\"code\": 11},\n",
      "\"SUM\": {\n",
      "\"blank\": 8698,\n",
      "\"comment\": 10969,\n",
      "\"code\": 48486,\n",
      "\"nFiles\": 416} }\n"
     ]
    },
    {
     "name": "stderr",
     "output_type": "stream",
     "text": [
      "fatal: ambiguous argument '4': unknown revision or path not in the working tree.\n",
      "Use '--' to separate paths from revisions, like this:\n",
      "'git <command> [<revision>...] -- [<file>...]'\n"
     ]
    },
    {
     "name": "stdout",
     "output_type": "stream",
     "text": [
      "\n",
      "{\"header\" : {\n",
      "\"cloc_url\"           : \"github.com/AlDanial/cloc\",\n",
      "\"cloc_version\"       : \"1.90\",\n",
      "\"elapsed_seconds\"    : 0.450731992721558,\n",
      "\"n_files\"            : 416,\n",
      "\"n_lines\"            : 68153,\n",
      "\"files_per_second\"   : 922.943138533737,\n",
      "\"lines_per_second\"   : 151205.153174254},\n",
      "\"Java\" :{\n",
      "\"nFiles\": 235,\n",
      "\"blank\": 4076,\n",
      "\"comment\": 6750,\n",
      "\"code\": 21281},\n",
      "\"Bourne Shell\" :{\n",
      "\"nFiles\": 9,\n",
      "\"blank\": 1400,\n",
      "\"comment\": 1045,\n",
      "\"code\": 9866},\n",
      "\"C\" :{\n",
      "\"nFiles\": 29,\n",
      "\"blank\": 1798,\n",
      "\"comment\": 598,\n",
      "\"code\": 8914},\n",
      "\"XML\" :{\n",
      "\"nFiles\": 66,\n",
      "\"blank\": 346,\n",
      "\"comment\": 1653,\n",
      "\"code\": 3113},\n",
      "\"Groovy\" :{\n",
      "\"nFiles\": 15,\n",
      "\"blank\": 442,\n",
      "\"comment\": 114,\n",
      "\"code\": 1766},\n",
      "\"Web Services Description\" :{\n",
      "\"nFiles\": 3,\n",
      "\"blank\": 188,\n",
      "\"comment\": 37,\n",
      "\"code\": 1139},\n",
      "\"C/C++ Header\" :{\n",
      "\"nFiles\": 18,\n",
      "\"blank\": 147,\n",
      "\"comment\": 57,\n",
      "\"code\": 575},\n",
      "\"Perl\" :{\n",
      "\"nFiles\": 6,\n",
      "\"blank\": 60,\n",
      "\"comment\": 53,\n",
      "\"code\": 452},\n",
      "\"Ant\" :{\n",
      "\"nFiles\": 13,\n",
      "\"blank\": 28,\n",
      "\"comment\": 452,\n",
      "\"code\": 384},\n",
      "\"make\" :{\n",
      "\"nFiles\": 10,\n",
      "\"blank\": 131,\n",
      "\"comment\": 64,\n",
      "\"code\": 332},\n",
      "\"Bourne Again Shell\" :{\n",
      "\"nFiles\": 3,\n",
      "\"blank\": 18,\n",
      "\"comment\": 25,\n",
      "\"code\": 237},\n",
      "\"m4\" :{\n",
      "\"nFiles\": 1,\n",
      "\"blank\": 20,\n",
      "\"comment\": 1,\n",
      "\"code\": 163},\n",
      "\"CSS\" :{\n",
      "\"nFiles\": 1,\n",
      "\"blank\": 17,\n",
      "\"comment\": 0,\n",
      "\"code\": 114},\n",
      "\"XSD\" :{\n",
      "\"nFiles\": 1,\n",
      "\"blank\": 12,\n",
      "\"comment\": 33,\n",
      "\"code\": 99},\n",
      "\"Drools\" :{\n",
      "\"nFiles\": 2,\n",
      "\"blank\": 4,\n",
      "\"comment\": 0,\n",
      "\"code\": 21},\n",
      "\"HTML\" :{\n",
      "\"nFiles\": 2,\n",
      "\"blank\": 3,\n",
      "\"comment\": 67,\n",
      "\"code\": 19},\n",
      "\"diff\" :{\n",
      "\"nFiles\": 2,\n",
      "\"blank\": 8,\n",
      "\"comment\": 20,\n",
      "\"code\": 11},\n",
      "\"SUM\": {\n",
      "\"blank\": 8698,\n",
      "\"comment\": 10969,\n",
      "\"code\": 48486,\n",
      "\"nFiles\": 416} }\n"
     ]
    }
   ],
   "source": [
    "#Your code here    \n",
    "\n",
    "major_minor_patch_versions_cloc = []\n",
    "for tag in major_minor_patch_versions[0]:\n",
    "    command = f'git -C {eucalyptus_project_path} reset --hard {tag}'\n",
    "    process = subprocess.Popen(command, stdout=subprocess.PIPE, shell=True)\n",
    "    command = f'cloc --git --json {eucalyptus_project_path}'\n",
    "    process = subprocess.Popen(command, stdout=subprocess.PIPE, shell=True)\n",
    "    for line in process.stdout:\n",
    "        print(line.strip().decode(\"utf-8\"))\n",
    "\n"
   ]
  },
  {
   "cell_type": "code",
   "execution_count": 59,
   "id": "aefb6d51-33bb-4a0c-95ea-aac4f62c3366",
   "metadata": {},
   "outputs": [
    {
     "name": "stdout",
     "output_type": "stream",
     "text": [
      "b'v4.4.2|2017-08-30\\n'\n",
      "b'v4.4.1|2017-05-08\\n'\n",
      "b'v4.4.0|2017-03-07\\n'\n",
      "b'v4.3.1|2016-12-14\\n'\n",
      "b'v4.3.1.1|2017-02-02\\n'\n",
      "b'v4.3.0|2016-08-09\\n'\n",
      "b'v4.3.0.1|2016-09-15\\n'\n",
      "b'v4.2.2|2016-04-27\\n'\n",
      "b'v4.2.1|2015-12-07\\n'\n",
      "b'v4.2.0|2015-10-22\\n'\n",
      "b'v4.1.2|2015-07-28\\n'\n",
      "b'v4.1.1|2015-05-07\\n'\n",
      "b'v4.1.0|2015-01-28\\n'\n",
      "b'v4.0.2|2014-11-03\\n'\n",
      "b'v4.0.1|2014-08-04\\n'\n",
      "b'v4.0.0|2014-05-30\\n'\n",
      "b'karmic|2009-10-13\\n'\n",
      "b'jaunty|2009-06-23\\n'\n",
      "b'ha-baseline|2012-05-04\\n'\n",
      "b'3.4.2|2014-02-25\\n'\n",
      "b'3.4.1|2013-12-16\\n'\n",
      "b'3.4.0|2013-10-24\\n'\n",
      "b'3.3-m6|2013-04-23\\n'\n",
      "b'3.3-m5|2013-04-11\\n'\n",
      "b'3.3-m4|2013-03-14\\n'\n",
      "b'3.3-m3|2013-02-25\\n'\n",
      "b'3.3-m2|2013-02-04\\n'\n",
      "b'3.3-m1|2013-01-22\\n'\n",
      "b'3.3.2|2013-10-24\\n'\n",
      "b'3.3.1|2013-09-11\\n'\n",
      "b'3.3.0|2013-06-20\\n'\n",
      "b'3.3.0.1|2013-06-20\\n'\n",
      "b'3.2.2|2013-04-16\\n'\n",
      "b'3.2.1|2013-02-28\\n'\n",
      "b'3.2.0|2012-12-17\\n'\n",
      "b'3.1-beta1|2012-05-25\\n'\n",
      "b'3.1-alpha2|2012-05-18\\n'\n",
      "b'3.1.2|2012-09-27\\n'\n",
      "b'3.1.1|2012-09-17\\n'\n",
      "b'3.1.0|2012-06-22\\n'\n",
      "b'3.0-rc3|2012-02-07\\n'\n",
      "b'3.0-rc2|2012-02-05\\n'\n",
      "b'3.0-rc1|2012-02-02\\n'\n",
      "b'3.0-beta6|2012-01-20\\n'\n",
      "b'3.0-beta5|2012-01-09\\n'\n",
      "b'3.0-beta4|2011-12-05\\n'\n",
      "b'3.0-beta3|2011-08-19\\n'\n",
      "b'3.0-beta2|2011-07-25\\n'\n",
      "b'3.0-alpha1|2011-04-22\\n'\n",
      "b'3.0.1|2012-03-12\\n'\n",
      "b'3.0.0|2012-02-07\\n'\n",
      "b'2.0-branch|2010-10-15\\n'\n",
      "b'2.0-beta|2010-03-09\\n'\n",
      "b'2.0.1|2010-07-06\\n'\n",
      "b'2.0.0|2010-06-05\\n'\n",
      "b'1.6.1|2009-11-05\\n'\n",
      "b'1.5.2|2009-08-17\\n'\n",
      "b'1.5.1|2009-08-05\\n'\n",
      "b'1.5.0|2009-02-18\\n'\n",
      "b'1.4|2009-01-06\\n'\n",
      "b'1.0-beta|2010-03-05\\n'\n"
     ]
    }
   ],
   "source": [
    "command = f'git -C {eucalyptus_project_path} tag -l --format=\"%(refname:short)|%(creatordate:short)\" | sort -r' # to get the release date\n",
    "process = subprocess.Popen(command, stdout=subprocess.PIPE, shell=True)\n",
    "# Your code to obtain the release date of each tag and combine it with the data obtained in the previous cell. Final data should have\n",
    "# #lines of code, #comments, #files, #blanks, #release date\n",
    "for line in process.stdout:\n",
    "    print(line)"
   ]
  },
  {
   "cell_type": "code",
   "execution_count": null,
   "id": "c9d32893-d57a-4edc-b1e7-1825b64ae9c9",
   "metadata": {},
   "outputs": [],
   "source": [
    "# Your code here to get the versions of the form major.minor "
   ]
  },
  {
   "cell_type": "code",
   "execution_count": null,
   "id": "1b8ba85a-ea94-4cc3-980e-46d42f59ef0e",
   "metadata": {},
   "outputs": [],
   "source": [
    "# Your code here to get the versions of the form major.minor.patch"
   ]
  },
  {
   "cell_type": "code",
   "execution_count": 80,
   "id": "03909be1",
   "metadata": {},
   "outputs": [
    {
     "data": {
      "text/html": [
       "<div>\n",
       "<style scoped>\n",
       "    .dataframe tbody tr th:only-of-type {\n",
       "        vertical-align: middle;\n",
       "    }\n",
       "\n",
       "    .dataframe tbody tr th {\n",
       "        vertical-align: top;\n",
       "    }\n",
       "\n",
       "    .dataframe thead th {\n",
       "        text-align: right;\n",
       "    }\n",
       "</style>\n",
       "<table border=\"1\" class=\"dataframe\">\n",
       "  <thead>\n",
       "    <tr style=\"text-align: right;\">\n",
       "      <th></th>\n",
       "      <th>Unnamed: 0</th>\n",
       "      <th>major</th>\n",
       "      <th>minor</th>\n",
       "      <th>nb_code</th>\n",
       "      <th>nb_blank</th>\n",
       "      <th>nb_comment</th>\n",
       "      <th>nb_nfiles</th>\n",
       "      <th>date</th>\n",
       "      <th>relative_day</th>\n",
       "      <th>major.minor</th>\n",
       "    </tr>\n",
       "  </thead>\n",
       "  <tbody>\n",
       "    <tr>\n",
       "      <th>0</th>\n",
       "      <td>0</td>\n",
       "      <td>1</td>\n",
       "      <td>4</td>\n",
       "      <td>115336</td>\n",
       "      <td>18033</td>\n",
       "      <td>37569</td>\n",
       "      <td>1624</td>\n",
       "      <td>2009-01-06</td>\n",
       "      <td>0</td>\n",
       "      <td>1.4</td>\n",
       "    </tr>\n",
       "    <tr>\n",
       "      <th>1</th>\n",
       "      <td>1</td>\n",
       "      <td>1</td>\n",
       "      <td>5</td>\n",
       "      <td>129319</td>\n",
       "      <td>20261</td>\n",
       "      <td>44820</td>\n",
       "      <td>1705</td>\n",
       "      <td>2009-02-18</td>\n",
       "      <td>43</td>\n",
       "      <td>1.5</td>\n",
       "    </tr>\n",
       "    <tr>\n",
       "      <th>2</th>\n",
       "      <td>2</td>\n",
       "      <td>1</td>\n",
       "      <td>6</td>\n",
       "      <td>152705</td>\n",
       "      <td>23755</td>\n",
       "      <td>65761</td>\n",
       "      <td>1923</td>\n",
       "      <td>2009-11-05</td>\n",
       "      <td>303</td>\n",
       "      <td>1.6</td>\n",
       "    </tr>\n",
       "    <tr>\n",
       "      <th>3</th>\n",
       "      <td>3</td>\n",
       "      <td>2</td>\n",
       "      <td>0</td>\n",
       "      <td>181316</td>\n",
       "      <td>27549</td>\n",
       "      <td>67567</td>\n",
       "      <td>2251</td>\n",
       "      <td>2010-06-05</td>\n",
       "      <td>515</td>\n",
       "      <td>2.0</td>\n",
       "    </tr>\n",
       "    <tr>\n",
       "      <th>4</th>\n",
       "      <td>4</td>\n",
       "      <td>3</td>\n",
       "      <td>0</td>\n",
       "      <td>255305</td>\n",
       "      <td>39181</td>\n",
       "      <td>87179</td>\n",
       "      <td>2894</td>\n",
       "      <td>2012-02-07</td>\n",
       "      <td>1127</td>\n",
       "      <td>3.0</td>\n",
       "    </tr>\n",
       "  </tbody>\n",
       "</table>\n",
       "</div>"
      ],
      "text/plain": [
       "   Unnamed: 0  major  minor  nb_code  nb_blank  nb_comment  nb_nfiles  \\\n",
       "0           0      1      4   115336     18033       37569       1624   \n",
       "1           1      1      5   129319     20261       44820       1705   \n",
       "2           2      1      6   152705     23755       65761       1923   \n",
       "3           3      2      0   181316     27549       67567       2251   \n",
       "4           4      3      0   255305     39181       87179       2894   \n",
       "\n",
       "         date  relative_day  major.minor  \n",
       "0  2009-01-06             0          1.4  \n",
       "1  2009-02-18            43          1.5  \n",
       "2  2009-11-05           303          1.6  \n",
       "3  2010-06-05           515          2.0  \n",
       "4  2012-02-07          1127          3.0  "
      ]
     },
     "execution_count": 80,
     "metadata": {},
     "output_type": "execute_result"
    }
   ],
   "source": [
    "df_major_minor = pd.read_csv(\"/home/william/Desktop/Software_evolution_TP2_2023/LIG_major_minor.csv\")\n",
    "df_major_minor.head()"
   ]
  },
  {
   "cell_type": "code",
   "execution_count": 81,
   "id": "ac0ab85d",
   "metadata": {},
   "outputs": [
    {
     "data": {
      "text/html": [
       "<div>\n",
       "<style scoped>\n",
       "    .dataframe tbody tr th:only-of-type {\n",
       "        vertical-align: middle;\n",
       "    }\n",
       "\n",
       "    .dataframe tbody tr th {\n",
       "        vertical-align: top;\n",
       "    }\n",
       "\n",
       "    .dataframe thead th {\n",
       "        text-align: right;\n",
       "    }\n",
       "</style>\n",
       "<table border=\"1\" class=\"dataframe\">\n",
       "  <thead>\n",
       "    <tr style=\"text-align: right;\">\n",
       "      <th></th>\n",
       "      <th>Unnamed: 0</th>\n",
       "      <th>major</th>\n",
       "      <th>minor</th>\n",
       "      <th>patch</th>\n",
       "      <th>nb_code</th>\n",
       "      <th>nb_blank</th>\n",
       "      <th>nb_comment</th>\n",
       "      <th>nb_nfiles</th>\n",
       "      <th>date</th>\n",
       "      <th>relative_day</th>\n",
       "      <th>major.minor.patch</th>\n",
       "    </tr>\n",
       "  </thead>\n",
       "  <tbody>\n",
       "    <tr>\n",
       "      <th>0</th>\n",
       "      <td>0</td>\n",
       "      <td>1</td>\n",
       "      <td>4</td>\n",
       "      <td>0</td>\n",
       "      <td>115336</td>\n",
       "      <td>18033</td>\n",
       "      <td>37569</td>\n",
       "      <td>1624</td>\n",
       "      <td>2009-01-06</td>\n",
       "      <td>0</td>\n",
       "      <td>1.4.0</td>\n",
       "    </tr>\n",
       "    <tr>\n",
       "      <th>1</th>\n",
       "      <td>1</td>\n",
       "      <td>1</td>\n",
       "      <td>5</td>\n",
       "      <td>0</td>\n",
       "      <td>129319</td>\n",
       "      <td>20261</td>\n",
       "      <td>44820</td>\n",
       "      <td>1705</td>\n",
       "      <td>2009-02-18</td>\n",
       "      <td>43</td>\n",
       "      <td>1.5.0</td>\n",
       "    </tr>\n",
       "    <tr>\n",
       "      <th>2</th>\n",
       "      <td>2</td>\n",
       "      <td>1</td>\n",
       "      <td>5</td>\n",
       "      <td>1</td>\n",
       "      <td>133424</td>\n",
       "      <td>20780</td>\n",
       "      <td>44377</td>\n",
       "      <td>1784</td>\n",
       "      <td>2009-08-05</td>\n",
       "      <td>211</td>\n",
       "      <td>1.5.1</td>\n",
       "    </tr>\n",
       "    <tr>\n",
       "      <th>3</th>\n",
       "      <td>3</td>\n",
       "      <td>1</td>\n",
       "      <td>5</td>\n",
       "      <td>2</td>\n",
       "      <td>134275</td>\n",
       "      <td>20719</td>\n",
       "      <td>38184</td>\n",
       "      <td>1796</td>\n",
       "      <td>2009-08-17</td>\n",
       "      <td>223</td>\n",
       "      <td>1.5.2</td>\n",
       "    </tr>\n",
       "    <tr>\n",
       "      <th>4</th>\n",
       "      <td>4</td>\n",
       "      <td>1</td>\n",
       "      <td>6</td>\n",
       "      <td>1</td>\n",
       "      <td>152705</td>\n",
       "      <td>23755</td>\n",
       "      <td>65761</td>\n",
       "      <td>1923</td>\n",
       "      <td>2009-11-05</td>\n",
       "      <td>303</td>\n",
       "      <td>1.6.1</td>\n",
       "    </tr>\n",
       "  </tbody>\n",
       "</table>\n",
       "</div>"
      ],
      "text/plain": [
       "   Unnamed: 0  major  minor  patch  nb_code  nb_blank  nb_comment  nb_nfiles  \\\n",
       "0           0      1      4      0   115336     18033       37569       1624   \n",
       "1           1      1      5      0   129319     20261       44820       1705   \n",
       "2           2      1      5      1   133424     20780       44377       1784   \n",
       "3           3      1      5      2   134275     20719       38184       1796   \n",
       "4           4      1      6      1   152705     23755       65761       1923   \n",
       "\n",
       "         date  relative_day major.minor.patch  \n",
       "0  2009-01-06             0             1.4.0  \n",
       "1  2009-02-18            43             1.5.0  \n",
       "2  2009-08-05           211             1.5.1  \n",
       "3  2009-08-17           223             1.5.2  \n",
       "4  2009-11-05           303             1.6.1  "
      ]
     },
     "execution_count": 81,
     "metadata": {},
     "output_type": "execute_result"
    }
   ],
   "source": [
    "df_major_minor_patch = pd.read_csv(\"/home/william/Desktop/Software_evolution_TP2_2023/LIG_major_minor_patch.csv\")\n",
    "df_major_minor_patch.head()"
   ]
  },
  {
   "cell_type": "markdown",
   "id": "5635bd4d-979b-44a2-ae4a-1962b170445a",
   "metadata": {},
   "source": [
    "#### Visualization\n",
    "1. x-axis = version, y-axis = number  \n",
    "    i) for tags of the type major.minor.patch  \n",
    "    ii) for tags of the type major.minor  \n",
    "\n",
    "2. x-axis = date, y-axis = number  \n",
    "    i) for tags of the type major.minor.patch  \n",
    "    ii) for tags of the type major.minor  \n",
    "\n",
    "For easy comparison, place the plots with the versions on x-axis should be on the top (0,0) and (1,0) and their corresponding plots with date on the x-axis right below them (1,0) and (1,1) "
   ]
  },
  {
   "cell_type": "code",
   "execution_count": 121,
   "id": "2b146e1b-99f4-4a0f-8202-2231a10a86b2",
   "metadata": {},
   "outputs": [
    {
     "data": {
      "text/plain": [
       "Text(0.5, 0, 'Date')"
      ]
     },
     "execution_count": 121,
     "metadata": {},
     "output_type": "execute_result"
    },
    {
     "data": {
      "image/png": "[encoded data removed]",
      "text/plain": [
       "<Figure size 1000x1000 with 4 Axes>"
      ]
     },
     "metadata": {},
     "output_type": "display_data"
    }
   ],
   "source": [
    "fig,axes = plt.subplots(2,2,figsize=(10, 10))\n",
    "# Your plotting code here\n",
    "\n",
    "# 1 i)\n",
    "x1 = df_major_minor_patch.get(\"major.minor.patch\")\n",
    "y1 = df_major_minor_patch.get(\"nb_code\")\n",
    "axes[0,0].plot(x1,y1)\n",
    "axes[0,0].set_title(\"Number of line of code for Major.Minor.Patch\")\n",
    "axes[0,0].set_ylabel(\"nb code\")\n",
    "axes[0,0].set_xlabel(\"Tags\")\n",
    "\n",
    "#1 ii)\n",
    "x2 = df_major_minor.get(\"major.minor\")\n",
    "y2 = df_major_minor.get(\"nb_code\")\n",
    "axes[0,1].plot(x2,y2)\n",
    "axes[0,1].set_title(\"Number of line of code for Major.Minor\")\n",
    "axes[0,1].set_ylabel(\"nb code\")\n",
    "axes[0,1].set_xlabel(\"Tags\")\n",
    "\n",
    "\n",
    "#2 i)\n",
    "x3 = df_major_minor_patch.get(\"date\")\n",
    "y3 = df_major_minor_patch.get(\"nb_code\")\n",
    "axes[1,0].plot(x3,y3)\n",
    "axes[1,0].set_title(\"Number of line of code for Major.Minor.Patch\")\n",
    "axes[1,0].set_ylabel(\"nb code\")\n",
    "axes[1,0].set_xlabel(\"Date\")\n",
    "\n",
    "#2 ii)\n",
    "x4 = df_major_minor.get(\"date\")\n",
    "y4 = df_major_minor.get(\"nb_code\")\n",
    "axes[1,1].plot(x4,y4)\n",
    "axes[1,1].set_title(\"Number of line of code for Major.Minor\")\n",
    "axes[1,1].set_ylabel(\"nb code\")\n",
    "axes[1,1].set_xlabel(\"Date\")\n"
   ]
  },
  {
   "cell_type": "markdown",
   "id": "8774bc4c-9131-425d-b8d2-9d0940e48f6c",
   "metadata": {},
   "source": [
    "### Questions:\n",
    "1. Do you find any difference between the plot that is having date in the x-axis and the plot that is having tag in the x-axis? If yes, then what is the difference? If no, then why is it same?"
   ]
  },
  {
   "attachments": {},
   "cell_type": "markdown",
   "id": "b03dae7d-de25-4146-baf6-d8bfd2419549",
   "metadata": {},
   "source": [
    "For the tags of type major.minor.patch, we observe that the plot is the same.\n",
    "\n",
    "For the tags of the major.minor, we observe that the plot is different. It has the same shape but the length of the line between two point is different.\n"
   ]
  },
  {
   "cell_type": "markdown",
   "id": "edf025c5-9edc-440d-9bee-5dbdf20431bc",
   "metadata": {},
   "source": [
    "2. Which type of plot is preferable for software evolution analysis?   \n",
    "    a) date in x-axis  \n",
    "    b) tag in x-axis  \n",
    "Why?"
   ]
  },
  {
   "attachments": {},
   "cell_type": "markdown",
   "id": "ea949023-d96b-4fdd-9027-d453bdf51e99",
   "metadata": {},
   "source": [
    "It is preferable to use the tag in the x-axis because the tag gives us what type of realease it was. We can see if it is a major release, a minor release or a patch release."
   ]
  },
  {
   "cell_type": "markdown",
   "id": "6110bbae-e381-43ec-9a51-72bf941e3ced",
   "metadata": {},
   "source": [
    "3. Choose an option regarding the growth of the software by considering Dataset A. Motivate your choice using a 1d regression plot (below).  \n",
    "    a) Linear  \n",
    "    b) Sub-linear  \n",
    "    c) Super-linear  "
   ]
  },
  {
   "cell_type": "markdown",
   "id": "cb637502-7b6c-4eb2-8b9e-6cc2f3793031",
   "metadata": {},
   "source": []
  },
  {
   "cell_type": "code",
   "execution_count": 130,
   "id": "1b3a1dc2-2030-4f14-bf05-147628c7dd65",
   "metadata": {},
   "outputs": [
    {
     "name": "stdout",
     "output_type": "stream",
     "text": [
      "[13050.8140056]\n"
     ]
    },
    {
     "data": {
      "text/plain": [
       "[<matplotlib.lines.Line2D at 0x7f61bba316c0>]"
      ]
     },
     "execution_count": 130,
     "metadata": {},
     "output_type": "execute_result"
    },
    {
     "data": {
      "image/png": "[encoded data removed]",
      "text/plain": [
       "<Figure size 700x700 with 1 Axes>"
      ]
     },
     "metadata": {},
     "output_type": "display_data"
    }
   ],
   "source": [
    "plt.figure(figsize=(7,7))\n",
    "# Your code for regression plot\n",
    "lin = LinearRegression()\n",
    "X = np.arange(len(x1)).reshape(-1, 1)\n",
    "lin.fit(X,y1)\n",
    "c = lin.coef_\n",
    "Y = lin.predict(X)\n",
    "print(c)\n",
    "plt.plot(x1,y1)\n",
    "plt.plot(X,Y)"
   ]
  },
  {
   "cell_type": "markdown",
   "id": "c7cc92a4-8386-4359-b041-ce267552a09a",
   "metadata": {},
   "source": [
    "### Correlation \n",
    "Correlation is generally used to analyse the relationship between variables. Here, analyse the relationship between the number of lines of code and the number of files using Spearman correlation and Pearson correlation by considering Dataset A. Report the correlation upto 3 decimal places"
   ]
  },
  {
   "cell_type": "code",
   "execution_count": 137,
   "id": "70749ee7-78a8-4344-90cb-2ff0b6a0572f",
   "metadata": {},
   "outputs": [
    {
     "name": "stdout",
     "output_type": "stream",
     "text": [
      "Spearman correlation value :  0.977\n",
      "Pearson correlation value :  0.993\n"
     ]
    }
   ],
   "source": [
    "# Your code for correlation\n",
    "from scipy.stats import spearmanr, pearsonr\n",
    "\n",
    "nb_code = df_major_minor_patch.get(\"nb_code\")\n",
    "nb_file = df_major_minor_patch.get(\"nb_nfiles\")\n",
    "res_spearman , p1 = spearmanr(nb_code ,nb_file )\n",
    "print(f'Spearman correlation value : {res_spearman : .3f}')\n",
    "res_pearson , p2= pearsonr(nb_code ,nb_file)\n",
    "print(f'Pearson correlation value : {res_pearson : .3f}')"
   ]
  },
  {
   "cell_type": "markdown",
   "id": "3e8f82aa-ce42-4355-8de1-916e371f5af2",
   "metadata": {},
   "source": [
    "### Questions:\n",
    "4. Do you find any difference in correlation values between Pearson and Spearman? Which one is preferable for this use case? why?"
   ]
  },
  {
   "attachments": {},
   "cell_type": "markdown",
   "id": "b6e1599e-113c-4bfa-9c0b-eac18aae3a27",
   "metadata": {},
   "source": [
    "We observe that the Pearson value is higher."
   ]
  },
  {
   "cell_type": "markdown",
   "id": "fb9a8312-20fd-41f7-875e-668761a998a6",
   "metadata": {},
   "source": [
    "5. Based on the above correlation value, how much is the number of lines of code related to the number of files?"
   ]
  },
  {
   "attachments": {},
   "cell_type": "markdown",
   "id": "4ebe75dc-cb80-469b-909d-ca4293365f25",
   "metadata": {},
   "source": [
    "The number of lines of code is highly correlated to the number of file since the correlation value is almost 1"
   ]
  },
  {
   "cell_type": "markdown",
   "id": "72e2ea6c-cb13-4dae-8666-ed599c928efe",
   "metadata": {},
   "source": [
    "### Prediction\n",
    "Consider Dataset A for this task. Drop the last two data points in \"number of lines of code\" (LOC) (i.e. drop (LOC) corresponding to v4.4.1 and v4.4.2) and forecast the values for (LOC) for v4.4.1 and v4.4.2 using a basic linear/polynimial regression model.\n",
    "1. Drop the last two data points\n",
    "2. Build a basic regression model\n",
    "3. Ask the model to forecast the next two data points\n",
    "4. Plot the LOC original and forecasted in the same plot. x-axis = date, y-axis = number of lines of code"
   ]
  },
  {
   "cell_type": "code",
   "execution_count": 147,
   "id": "1a8b2e38-2975-439e-81d3-8c6dc46ccab9",
   "metadata": {},
   "outputs": [
    {
     "data": {
      "text/html": [
       "<div>\n",
       "<style scoped>\n",
       "    .dataframe tbody tr th:only-of-type {\n",
       "        vertical-align: middle;\n",
       "    }\n",
       "\n",
       "    .dataframe tbody tr th {\n",
       "        vertical-align: top;\n",
       "    }\n",
       "\n",
       "    .dataframe thead th {\n",
       "        text-align: right;\n",
       "    }\n",
       "</style>\n",
       "<table border=\"1\" class=\"dataframe\">\n",
       "  <thead>\n",
       "    <tr style=\"text-align: right;\">\n",
       "      <th></th>\n",
       "      <th>Unnamed: 0</th>\n",
       "      <th>major</th>\n",
       "      <th>minor</th>\n",
       "      <th>patch</th>\n",
       "      <th>nb_code</th>\n",
       "      <th>nb_blank</th>\n",
       "      <th>nb_comment</th>\n",
       "      <th>nb_nfiles</th>\n",
       "      <th>date</th>\n",
       "      <th>relative_day</th>\n",
       "      <th>major.minor.patch</th>\n",
       "    </tr>\n",
       "  </thead>\n",
       "  <tbody>\n",
       "    <tr>\n",
       "      <th>28</th>\n",
       "      <td>28</td>\n",
       "      <td>4</td>\n",
       "      <td>2</td>\n",
       "      <td>1</td>\n",
       "      <td>500161</td>\n",
       "      <td>79043</td>\n",
       "      <td>234453</td>\n",
       "      <td>4296</td>\n",
       "      <td>2015-12-07</td>\n",
       "      <td>2526</td>\n",
       "      <td>4.2.1</td>\n",
       "    </tr>\n",
       "    <tr>\n",
       "      <th>29</th>\n",
       "      <td>29</td>\n",
       "      <td>4</td>\n",
       "      <td>2</td>\n",
       "      <td>2</td>\n",
       "      <td>501035</td>\n",
       "      <td>79137</td>\n",
       "      <td>234639</td>\n",
       "      <td>4299</td>\n",
       "      <td>2016-04-27</td>\n",
       "      <td>2668</td>\n",
       "      <td>4.2.2</td>\n",
       "    </tr>\n",
       "    <tr>\n",
       "      <th>30</th>\n",
       "      <td>30</td>\n",
       "      <td>4</td>\n",
       "      <td>3</td>\n",
       "      <td>0</td>\n",
       "      <td>515659</td>\n",
       "      <td>79336</td>\n",
       "      <td>233230</td>\n",
       "      <td>4198</td>\n",
       "      <td>2016-08-09</td>\n",
       "      <td>2772</td>\n",
       "      <td>4.3.0</td>\n",
       "    </tr>\n",
       "    <tr>\n",
       "      <th>31</th>\n",
       "      <td>31</td>\n",
       "      <td>4</td>\n",
       "      <td>3</td>\n",
       "      <td>1</td>\n",
       "      <td>515924</td>\n",
       "      <td>79361</td>\n",
       "      <td>233247</td>\n",
       "      <td>4196</td>\n",
       "      <td>2016-12-14</td>\n",
       "      <td>2899</td>\n",
       "      <td>4.3.1</td>\n",
       "    </tr>\n",
       "    <tr>\n",
       "      <th>32</th>\n",
       "      <td>32</td>\n",
       "      <td>4</td>\n",
       "      <td>4</td>\n",
       "      <td>0</td>\n",
       "      <td>532121</td>\n",
       "      <td>82317</td>\n",
       "      <td>229918</td>\n",
       "      <td>4378</td>\n",
       "      <td>2017-03-07</td>\n",
       "      <td>2982</td>\n",
       "      <td>4.4.0</td>\n",
       "    </tr>\n",
       "  </tbody>\n",
       "</table>\n",
       "</div>"
      ],
      "text/plain": [
       "    Unnamed: 0  major  minor  patch  nb_code  nb_blank  nb_comment  nb_nfiles  \\\n",
       "28          28      4      2      1   500161     79043      234453       4296   \n",
       "29          29      4      2      2   501035     79137      234639       4299   \n",
       "30          30      4      3      0   515659     79336      233230       4198   \n",
       "31          31      4      3      1   515924     79361      233247       4196   \n",
       "32          32      4      4      0   532121     82317      229918       4378   \n",
       "\n",
       "          date  relative_day major.minor.patch  \n",
       "28  2015-12-07          2526             4.2.1  \n",
       "29  2016-04-27          2668             4.2.2  \n",
       "30  2016-08-09          2772             4.3.0  \n",
       "31  2016-12-14          2899             4.3.1  \n",
       "32  2017-03-07          2982             4.4.0  "
      ]
     },
     "execution_count": 147,
     "metadata": {},
     "output_type": "execute_result"
    }
   ],
   "source": [
    "# Your code here\n",
    "dataset_A = df_major_minor_patch[:-2]\n",
    "dataset_A.tail()\n"
   ]
  },
  {
   "cell_type": "code",
   "execution_count": 170,
   "id": "e6141273-c4f5-44a9-ac5d-a548b7a7a189",
   "metadata": {},
   "outputs": [
    {
     "name": "stdout",
     "output_type": "stream",
     "text": [
      "[13505.60093583]\n"
     ]
    }
   ],
   "source": [
    "# Your code here\n",
    "model = LinearRegression()\n",
    "X = np.arange(len(dataset_A.get(\"major.minor.patch\"))).reshape(-1, 1)\n",
    "Y = dataset_A.get(\"nb_code\")\n",
    "model.fit(X,Y)\n",
    "print(model.coef_)"
   ]
  },
  {
   "cell_type": "code",
   "execution_count": 171,
   "id": "7db7464c-88d3-492d-9078-42e899757af2",
   "metadata": {},
   "outputs": [],
   "source": [
    "# Your code here\n",
    "X_pred = np.arange(len(Y)+2).reshape(-1, 1)\n",
    "y_pred = model.predict(X_pred)"
   ]
  },
  {
   "cell_type": "code",
   "execution_count": 172,
   "id": "e67d1b02-fc45-480a-8e03-d9a291636a33",
   "metadata": {},
   "outputs": [
    {
     "data": {
      "text/plain": [
       "[<matplotlib.lines.Line2D at 0x7f61b8cef0a0>]"
      ]
     },
     "execution_count": 172,
     "metadata": {},
     "output_type": "execute_result"
    },
    {
     "data": {
      "image/png": "[encoded data removed]",
      "text/plain": [
       "<Figure size 640x480 with 1 Axes>"
      ]
     },
     "metadata": {},
     "output_type": "display_data"
    }
   ],
   "source": [
    "# Your plotting code here\n",
    "dates = df_major_minor_patch.get(\"date\")\n",
    "nb_code = df_major_minor_patch.get(\"nb_code\")\n",
    "plt.plot(dates,nb_code)\n",
    "plt.plot(dates,y_pred)"
   ]
  },
  {
   "cell_type": "markdown",
   "id": "8bdd2798-1e93-4beb-8339-4e408d3c39c2",
   "metadata": {},
   "source": [
    "### Questions:\n",
    "6. What is the polynomial degree that you adopted to build the model? Why? "
   ]
  },
  {
   "attachments": {},
   "cell_type": "markdown",
   "id": "f3c421f9-c6f2-4350-8ded-a70a974c86d0",
   "metadata": {},
   "source": [
    "Since the evolution looks like to be linear, the model uses a polynomial degree of 1"
   ]
  },
  {
   "cell_type": "markdown",
   "id": "6a98e16e-1114-4f4b-9867-3f60019ee45f",
   "metadata": {},
   "source": [
    "7. What is the coefficient of determination? (R-squared)"
   ]
  },
  {
   "cell_type": "code",
   "execution_count": 175,
   "id": "b79704a7",
   "metadata": {},
   "outputs": [
    {
     "name": "stdout",
     "output_type": "stream",
     "text": [
      "0.9416882302527566\n"
     ]
    }
   ],
   "source": [
    "from sklearn.metrics import r2_score\n",
    "\n",
    "y_true = df_major_minor_patch.get(\"nb_code\")\n",
    "score = r2_score(y_true,y_pred)\n",
    "print(score)"
   ]
  },
  {
   "attachments": {},
   "cell_type": "markdown",
   "id": "0954e7aa-cedd-4f1b-bce2-7793c0cf04c7",
   "metadata": {},
   "source": [
    "The coefficient of determination is 0.942"
   ]
  },
  {
   "cell_type": "markdown",
   "id": "e621e18e-26a2-4cf5-ab5c-162d87b5889d",
   "metadata": {},
   "source": [
    "8. What is the Root mean square error for the forecasted values?"
   ]
  },
  {
   "cell_type": "code",
   "execution_count": 176,
   "id": "52cf12a8",
   "metadata": {},
   "outputs": [
    {
     "name": "stdout",
     "output_type": "stream",
     "text": [
      "32771.795622385944\n"
     ]
    }
   ],
   "source": [
    "from sklearn.metrics import mean_squared_error\n",
    "\n",
    "score = mean_squared_error(y_true, y_pred, squared=False)\n",
    "print(score)"
   ]
  },
  {
   "cell_type": "markdown",
   "id": "e9e7d092-76af-470a-b85b-563ae5613cf8",
   "metadata": {},
   "source": []
  },
  {
   "cell_type": "markdown",
   "id": "393f2a07-2dd7-4ab3-86c7-0b0ba07f046b",
   "metadata": {},
   "source": [
    "### Filtering on coding langugage"
   ]
  },
  {
   "cell_type": "markdown",
   "id": "76c3ed66-711b-4f01-af30-dac4f927bc88",
   "metadata": {},
   "source": [
    "Consider the prominent langugages used in this software project and plot the distribution of their LOC in a pie chart for the first and the last versions"
   ]
  },
  {
   "cell_type": "code",
   "execution_count": 197,
   "id": "9fb22e22-5b37-4a67-9d43-dab4121fa83d",
   "metadata": {},
   "outputs": [
    {
     "name": "stdout",
     "output_type": "stream",
     "text": [
      "first version : ['Java', 'Bourne Shell', 'C', 'XML', 'Groovy', 'Web Services Description', 'C/C++ Header', 'Perl', 'Ant', 'make', 'Bourne Again Shell', 'm4', 'CSS', 'XSD', 'Drools', 'HTML', 'diff']\n",
      "first version : ['21281', '9866', '8914', '3113', '1766', '1139', '575', '452', '384', '332', '237', '163', '114', '99', '21', '19', '11']\n",
      "last version : ['Java', 'Groovy', 'C', 'XML', 'Bourne Shell', 'Web Services Description', 'Python', 'C/C++ Header', 'Perl', 'make', 'JSON', 'm4', 'Ant', 'diff', 'Markdown', 'Bourne Again Shell', 'INI']\n",
      "last version : ['167081', '31880', '20580', '17152', '7580', '2982', '1779', '1706', '849', '837', '571', '542', '434', '41', '34', '23', '23']\n"
     ]
    }
   ],
   "source": [
    "# Your code to get the data for LOC of first and last versions\n",
    "\n",
    "first_version = '1.4'\n",
    "last_version = 'v4.4.2'\n",
    "\n",
    "\n",
    "def getLOC(tag):\n",
    "    command = f'git -C {eucalyptus_project_path} reset --hard {tag}'\n",
    "    process = subprocess.Popen(command, stdout=subprocess.PIPE, shell=True)\n",
    "    command = f'cloc --git --csv --quiet {eucalyptus_project_path}'\n",
    "    process = subprocess.Popen(command, stdout=subprocess.PIPE, shell=True)\n",
    "    output = list(line.strip().decode(\"utf-8\") for line in process.stdout)\n",
    "    output = output[2:-1]\n",
    "    lang = []\n",
    "    loc = []\n",
    "    for o in output:\n",
    "        line = o.split(',')\n",
    "        lang.append(line[1])\n",
    "        loc.append(line[4])\n",
    "    return lang , loc\n",
    "\n",
    "lang_first , loc_first = getLOC(first_version)\n",
    "lang_last , loc_last = getLOC(last_version)\n",
    "print(f'first version : {lang_first}')\n",
    "print(f'first version : {loc_first}')\n",
    "print(f'last version : {lang_last}')\n",
    "print(f'last version : {loc_last}')"
   ]
  },
  {
   "cell_type": "code",
   "execution_count": 201,
   "id": "dc14b7fe-b4d2-423c-b9c8-b79eb498ef3c",
   "metadata": {},
   "outputs": [
    {
     "data": {
      "text/plain": [
       "Text(0.5, 1.0, 'Line of code of last version')"
      ]
     },
     "execution_count": 201,
     "metadata": {},
     "output_type": "execute_result"
    },
    {
     "data": {
      "image/png": "[encoded data removed]",
      "text/plain": [
       "<Figure size 640x480 with 2 Axes>"
      ]
     },
     "metadata": {},
     "output_type": "display_data"
    }
   ],
   "source": [
    "# Your pie chart code here\n",
    "\n",
    "prominent_index = [0,2,3,4]\n",
    "x_first = np.array(lang_first)[prominent_index]\n",
    "y_first = np.array(loc_first)[prominent_index]\n",
    "\n",
    "prominent_index_last = [0,1,2,3,6]\n",
    "x_last = np.array(lang_last)[prominent_index_last]\n",
    "y_last = np.array(loc_last)[prominent_index_last]\n",
    "\n",
    "fig, ax = plt.subplots(1,2)\n",
    "ax[0].pie(y_first, labels=x_first)\n",
    "ax[0].set_title(\"Line of code of the first version\")\n",
    "ax[1].pie(y_last,labels=x_last)\n",
    "ax[1].set_title(\"Line of code of last version\")"
   ]
  },
  {
   "cell_type": "markdown",
   "id": "056e7d22-fee2-4efb-ace7-c06b99edbd36",
   "metadata": {},
   "source": [
    "### Question:\n",
    "9. Do you find any significant difference in the distribution of the language used in the software project between its first and the last version? If so, what is the difference and how much is it?"
   ]
  },
  {
   "attachments": {},
   "cell_type": "markdown",
   "id": "de5ed052",
   "metadata": {},
   "source": [
    "We observe that the language the have increase in term of proportion are Java, Groovy and Python. We also observe that the proportion of C code has decreased and the proportion of XML code doesn't seem to have change. "
   ]
  },
  {
   "cell_type": "markdown",
   "id": "44d37ce7-c3ad-4eb9-a7e6-b7f52ac137c1",
   "metadata": {},
   "source": [
    "### Law of increasing growth for coding langugages"
   ]
  },
  {
   "cell_type": "markdown",
   "id": "ededc08c-1bd4-4725-984a-61a71aa240c6",
   "metadata": {},
   "source": [
    "Get the LOC for each of the considered prominent langugages (as above) for each version of the form major.minor.patch  \n",
    "1) Plot the date (x-axis) vs LOC (y-axis) \n",
    "2) Plot the date (x-axis) vs proportional LOC (y-axis). Proportional is LOC of a language/total number of LOC"
   ]
  },
  {
   "cell_type": "code",
   "execution_count": null,
   "id": "ccd66fa9-c455-4339-bf42-e9b881d6ffad",
   "metadata": {},
   "outputs": [],
   "source": [
    "# Your code to get the LOC for each prominent language of each version"
   ]
  },
  {
   "cell_type": "code",
   "execution_count": null,
   "id": "bf843988-362f-4486-9e49-5a641c1d04dc",
   "metadata": {},
   "outputs": [],
   "source": [
    "# Your plotting code here"
   ]
  },
  {
   "cell_type": "markdown",
   "id": "ea3b1876-ad5a-4f90-96e8-ed07e2852101",
   "metadata": {},
   "source": [
    "### Question:\n",
    "10. Does the prominent languages considered by you obey laws of increasing growth?"
   ]
  },
  {
   "cell_type": "markdown",
   "id": "8df7db15-f203-41d6-9bd6-eccf2f9742b5",
   "metadata": {},
   "source": []
  },
  {
   "cell_type": "markdown",
   "id": "478c66e4-4f20-4ed8-98db-70bdcf920fcd",
   "metadata": {},
   "source": [
    "11. Does this software project obey the Law of Increasing Growth?"
   ]
  },
  {
   "cell_type": "markdown",
   "id": "26146858-0cb6-4fd8-9a6b-debef98390b7",
   "metadata": {},
   "source": []
  },
  {
   "cell_type": "markdown",
   "id": "375ae835-c18c-4af3-a730-32d853df034a",
   "metadata": {},
   "source": [
    "### Modify the CLOC parameters"
   ]
  },
  {
   "cell_type": "markdown",
   "id": "b3d71b90-1492-4833-9c0a-c8a0f7446ada",
   "metadata": {},
   "source": [
    "1. Exclude all bank lines and verify if the Law of Increasing Growth still holds good for this filtering"
   ]
  },
  {
   "cell_type": "code",
   "execution_count": null,
   "id": "ff129b14-94ae-460c-bcb3-981180e72db3",
   "metadata": {},
   "outputs": [],
   "source": [
    "# Your code and plot here"
   ]
  },
  {
   "cell_type": "markdown",
   "id": "5cb0cee6-19b3-4e50-8cb5-82eb50736713",
   "metadata": {},
   "source": [
    "2. Exclude all comment lines and verify if the Law of Increasing Growth still holds good for this filtering"
   ]
  },
  {
   "cell_type": "code",
   "execution_count": null,
   "id": "7d971a34-fe97-4793-9864-07b2114ed373",
   "metadata": {},
   "outputs": [],
   "source": [
    "# Your code and plot here"
   ]
  },
  {
   "cell_type": "markdown",
   "id": "16cfd99a-0a91-497d-a1f9-4d7a8d407736",
   "metadata": {},
   "source": [
    "3. Exclude all non-code files (or consider prominent coding langugages used in the project) and and verify if the Law of Increasing Growth still holds good for this filtering"
   ]
  },
  {
   "cell_type": "code",
   "execution_count": null,
   "id": "d4981a7f-f79a-4e62-9ba3-94723a0ad640",
   "metadata": {},
   "outputs": [],
   "source": [
    "# Your code and plot here"
   ]
  },
  {
   "cell_type": "code",
   "execution_count": null,
   "id": "bc0d6002-1014-43d0-8dfc-dae6a8680a04",
   "metadata": {},
   "outputs": [],
   "source": []
  },
  {
   "cell_type": "markdown",
   "id": "5dfd05d1-2dc8-4abc-8d05-639007bf553e",
   "metadata": {},
   "source": [
    "### 2.3 Law of Continuing Change\n",
    "1. Using CLOC tool, find the features such as number of lines of code that are added, modified, removed and same between two consecutive versions\n",
    "2. Consider all the three component versions (major.minor.patch) - Dataset A\n",
    "3. Consider only the minor versions (major.minor) - Dataset B\n",
    "4. Having all the features in the same plot, create two plots (one for Dataset A and another for Dataset B) the outcomes with date on x-axis and the number on y-axis.\n",
    "5. Make a subplot of all the features\n",
    "\n",
    "Code hint:  \n",
    "For each pair of tags, set the original project to the required tag and the copy of the original project to the next tag.  \n",
    "To get the required data in json format - \"command = f'CLOC/cloc --git --diff {first_project_path} {second_project_path} --json'\""
   ]
  },
  {
   "cell_type": "code",
   "execution_count": null,
   "id": "c38f5e8d-245b-4307-9d98-2340cbea06a1",
   "metadata": {},
   "outputs": [],
   "source": [
    "eucalyptus_project_path = '' # your project path here\n",
    "eucalyptus_copy_project_path = '' # your path to the copy of your project here\n",
    "major_minor_patch_versions = '' #set of version that you would like to consider for this analysis"
   ]
  },
  {
   "cell_type": "code",
   "execution_count": null,
   "id": "f0682e1c-dd84-4f31-bdfa-781e5a6ac75f",
   "metadata": {},
   "outputs": [],
   "source": [
    "# Your code here to get the data"
   ]
  },
  {
   "cell_type": "code",
   "execution_count": null,
   "id": "7b5f935d-dc48-4b97-8d5c-9168e372bb47",
   "metadata": {},
   "outputs": [],
   "source": [
    "# Your code here to get the dates corresponding to the tags"
   ]
  },
  {
   "cell_type": "code",
   "execution_count": null,
   "id": "8500a388-8c65-4203-81df-156a9425b67e",
   "metadata": {},
   "outputs": [],
   "source": [
    "# Your plotting code here (all the features in a single plot)"
   ]
  },
  {
   "cell_type": "code",
   "execution_count": null,
   "id": "9505d1a0-2c0d-470a-b545-95680be092f4",
   "metadata": {},
   "outputs": [],
   "source": [
    "# Your plotting code here, different plot for each feature\n",
    "fig,axes = plt.subplots(2,2)"
   ]
  },
  {
   "cell_type": "markdown",
   "id": "a96114cb-aafb-4c57-8bff-af5d309b1994",
   "metadata": {},
   "source": [
    "### Questions:\n",
    "1. Do you find the Law of Continuing Change holding good here? Prove it empirically."
   ]
  },
  {
   "cell_type": "markdown",
   "id": "131fe261-c978-434d-824f-f6e416fb6110",
   "metadata": {},
   "source": []
  },
  {
   "cell_type": "markdown",
   "id": "dd5ee600-da8e-431d-9028-fc3fc3d9f97e",
   "metadata": {},
   "source": [
    "2. Does the law of increasing growth too hold good here?"
   ]
  },
  {
   "cell_type": "markdown",
   "id": "7fe9e863-19a3-4f53-b50e-b8f065615839",
   "metadata": {},
   "source": []
  },
  {
   "cell_type": "markdown",
   "id": "ce62cb54-5d8f-4e65-a50b-b12cd9f6e362",
   "metadata": {},
   "source": [
    "### Law of continuing change for coding languages\n",
    "Consider the prominent languages used in this software project for versions of the form major.minor.patch\n",
    "1. Obtain the number of lines of code that are added, modified, removed and same between two consecutive versions\n",
    "2. Make plots for each parameter (added, modified, removed and same) with date on x-axis  \n",
    "    a) y-axis number of lines of code   \n",
    "    b) y-axis proportional number of lines of code (number of lines of code of that language/total number of lines of code) "
   ]
  },
  {
   "cell_type": "code",
   "execution_count": null,
   "id": "9707b16c-abb1-4ef8-bd77-af85711cd624",
   "metadata": {},
   "outputs": [],
   "source": [
    "# Your code here"
   ]
  },
  {
   "cell_type": "code",
   "execution_count": null,
   "id": "aaf138ba-8d1e-498a-ac34-17c05c1b0b16",
   "metadata": {},
   "outputs": [],
   "source": [
    "# Your plotting code here\n",
    "fig,axes = plt.subplots(2,2)"
   ]
  },
  {
   "cell_type": "markdown",
   "id": "b4297222-6881-4cc5-a335-c707c3c3c0c1",
   "metadata": {},
   "source": [
    "### Question:\n",
    "3. Does the law of continuing change obey here for all the considered prominent langugages? Comment on the rate of growth.  "
   ]
  },
  {
   "cell_type": "markdown",
   "id": "ae7d089a-2bb5-4a18-a6d4-5919fe73a8d9",
   "metadata": {},
   "source": []
  },
  {
   "cell_type": "markdown",
   "id": "ea29d2e5-7f12-46c4-baad-e4abe3406e9f",
   "metadata": {},
   "source": [
    "4. Does this software project obey Law of Continuing Change?"
   ]
  },
  {
   "cell_type": "markdown",
   "id": "0fe3765f-2f31-4ecc-96cf-991cdb610a14",
   "metadata": {},
   "source": []
  },
  {
   "cell_type": "code",
   "execution_count": null,
   "id": "46b3a214-86cd-4f91-9f1c-ca31089a3c21",
   "metadata": {},
   "outputs": [],
   "source": []
  }
 ],
 "metadata": {
  "kernelspec": {
   "display_name": "Python 3",
   "language": "python",
   "name": "python3"
  },
  "language_info": {
   "codemirror_mode": {
    "name": "ipython",
    "version": 3
   },
   "file_extension": ".py",
   "mimetype": "text/x-python",
   "name": "python",
   "nbconvert_exporter": "python",
   "pygments_lexer": "ipython3",
   "version": "3.10.6"
  }
 },
 "nbformat": 4,
 "nbformat_minor": 5
}
